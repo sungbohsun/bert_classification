{
 "cells": [
  {
   "cell_type": "code",
   "execution_count": 1,
   "metadata": {},
   "outputs": [
    {
     "name": "stderr",
     "output_type": "stream",
     "text": [
      "/opt/conda/lib/python3.7/site-packages/tensorflow/python/framework/dtypes.py:526: FutureWarning: Passing (type, 1) or '1type' as a synonym of type is deprecated; in a future version of numpy, it will be understood as (type, (1,)) / '(1,)type'.\n",
      "  _np_qint8 = np.dtype([(\"qint8\", np.int8, 1)])\n",
      "/opt/conda/lib/python3.7/site-packages/tensorflow/python/framework/dtypes.py:527: FutureWarning: Passing (type, 1) or '1type' as a synonym of type is deprecated; in a future version of numpy, it will be understood as (type, (1,)) / '(1,)type'.\n",
      "  _np_quint8 = np.dtype([(\"quint8\", np.uint8, 1)])\n",
      "/opt/conda/lib/python3.7/site-packages/tensorflow/python/framework/dtypes.py:528: FutureWarning: Passing (type, 1) or '1type' as a synonym of type is deprecated; in a future version of numpy, it will be understood as (type, (1,)) / '(1,)type'.\n",
      "  _np_qint16 = np.dtype([(\"qint16\", np.int16, 1)])\n",
      "/opt/conda/lib/python3.7/site-packages/tensorflow/python/framework/dtypes.py:529: FutureWarning: Passing (type, 1) or '1type' as a synonym of type is deprecated; in a future version of numpy, it will be understood as (type, (1,)) / '(1,)type'.\n",
      "  _np_quint16 = np.dtype([(\"quint16\", np.uint16, 1)])\n",
      "/opt/conda/lib/python3.7/site-packages/tensorflow/python/framework/dtypes.py:530: FutureWarning: Passing (type, 1) or '1type' as a synonym of type is deprecated; in a future version of numpy, it will be understood as (type, (1,)) / '(1,)type'.\n",
      "  _np_qint32 = np.dtype([(\"qint32\", np.int32, 1)])\n",
      "/opt/conda/lib/python3.7/site-packages/tensorflow/python/framework/dtypes.py:535: FutureWarning: Passing (type, 1) or '1type' as a synonym of type is deprecated; in a future version of numpy, it will be understood as (type, (1,)) / '(1,)type'.\n",
      "  np_resource = np.dtype([(\"resource\", np.ubyte, 1)])\n",
      "Some weights of the model checkpoint at bert-base-chinese were not used when initializing BertForSequenceClassification: ['cls.predictions.bias', 'cls.predictions.transform.dense.weight', 'cls.predictions.transform.dense.bias', 'cls.predictions.decoder.weight', 'cls.seq_relationship.weight', 'cls.seq_relationship.bias', 'cls.predictions.transform.LayerNorm.weight', 'cls.predictions.transform.LayerNorm.bias']\n",
      "- This IS expected if you are initializing BertForSequenceClassification from the checkpoint of a model trained on another task or with another architecture (e.g. initializing a BertForSequenceClassification model from a BertForPreTraining model).\n",
      "- This IS NOT expected if you are initializing BertForSequenceClassification from the checkpoint of a model that you expect to be exactly identical (initializing a BertForSequenceClassification model from a BertForSequenceClassification model).\n",
      "Some weights of BertForSequenceClassification were not initialized from the model checkpoint at bert-base-chinese and are newly initialized: ['classifier.weight', 'classifier.bias']\n",
      "You should probably TRAIN this model on a down-stream task to be able to use it for predictions and inference.\n"
     ]
    },
    {
     "name": "stdout",
     "output_type": "stream",
     "text": [
      "Model loaded from <== inten_best_model.pt\n"
     ]
    },
    {
     "name": "stderr",
     "output_type": "stream",
     "text": [
      "Some weights of the model checkpoint at bert-base-chinese were not used when initializing BertForSequenceClassification: ['cls.predictions.bias', 'cls.predictions.transform.dense.weight', 'cls.predictions.transform.dense.bias', 'cls.predictions.decoder.weight', 'cls.seq_relationship.weight', 'cls.seq_relationship.bias', 'cls.predictions.transform.LayerNorm.weight', 'cls.predictions.transform.LayerNorm.bias']\n",
      "- This IS expected if you are initializing BertForSequenceClassification from the checkpoint of a model trained on another task or with another architecture (e.g. initializing a BertForSequenceClassification model from a BertForPreTraining model).\n",
      "- This IS NOT expected if you are initializing BertForSequenceClassification from the checkpoint of a model that you expect to be exactly identical (initializing a BertForSequenceClassification model from a BertForSequenceClassification model).\n",
      "Some weights of BertForSequenceClassification were not initialized from the model checkpoint at bert-base-chinese and are newly initialized: ['classifier.weight', 'classifier.bias']\n",
      "You should probably TRAIN this model on a down-stream task to be able to use it for predictions and inference.\n"
     ]
    },
    {
     "name": "stdout",
     "output_type": "stream",
     "text": [
      "Model loaded from <== depart_best_model.pt\n"
     ]
    },
    {
     "name": "stderr",
     "output_type": "stream",
     "text": [
      "/opt/conda/lib/python3.7/site-packages/torchtext/data/field.py:150: UserWarning: Field class will be retired soon and moved to torchtext.legacy. Please see the most recent release notes for further information.\n",
      "  warnings.warn('{} class will be retired soon and moved to torchtext.legacy. Please see the most recent release notes for further information.'.format(self.__class__.__name__), UserWarning)\n"
     ]
    }
   ],
   "source": [
    "from demo import Ans_setup"
   ]
  },
  {
   "cell_type": "code",
   "execution_count": 12,
   "metadata": {},
   "outputs": [],
   "source": [
    "Model = Ans_setup(6,4,0.7)"
   ]
  },
  {
   "cell_type": "code",
   "execution_count": 13,
   "metadata": {},
   "outputs": [
    {
     "name": "stdout",
     "output_type": "stream",
     "text": [
      "depart : 企業管理學系\n",
      "depart_prob : 6.0522050857543945\n",
      "inten : 畢業\n",
      "inten_porb : 5.851932525634766\n",
      "similarity qus: 企業管理學系有機會提前畢業嗎？\n",
      "similarity ans: 可以，本系連續數年都有學生申請提前畢業。\n",
      "prob : 0.924854040145874\n"
     ]
    }
   ],
   "source": [
    "Model.Ans('企管系可以提前畢業嗎?')"
   ]
  },
  {
   "cell_type": "code",
   "execution_count": 14,
   "metadata": {},
   "outputs": [
    {
     "name": "stdout",
     "output_type": "stream",
     "text": [
      "can not identify depart\n",
      "inten : 面試\n",
      "inten_porb : 6.779425144195557\n"
     ]
    }
   ],
   "source": [
    "Model.Ans('在面試的時候有什麼注意事項嗎？')"
   ]
  },
  {
   "cell_type": "code",
   "execution_count": 15,
   "metadata": {},
   "outputs": [
    {
     "name": "stdout",
     "output_type": "stream",
     "text": [
      "can not identify depart\n",
      "inten : 學系介紹\n",
      "inten_porb : 4.062225341796875\n"
     ]
    }
   ],
   "source": [
    "Model.Ans('你喜歡peter嗎')"
   ]
  },
  {
   "cell_type": "code",
   "execution_count": 16,
   "metadata": {},
   "outputs": [
    {
     "name": "stdout",
     "output_type": "stream",
     "text": [
      "depart : 統計學系\n",
      "depart_prob : 6.3463568687438965\n",
      "inten : 面試\n",
      "inten_porb : 6.990571022033691\n",
      "similarity qus: 統計系面試要帶口罩嗎?\n",
      "similarity ans: 是，請進入校園後就全程戴口罩，保護自己也保護別人哦~\n",
      "prob : 0.9947694540023804\n"
     ]
    }
   ],
   "source": [
    "Model.Ans('統計系面試要戴口罩嗎')"
   ]
  },
  {
   "cell_type": "code",
   "execution_count": 17,
   "metadata": {},
   "outputs": [
    {
     "name": "stdout",
     "output_type": "stream",
     "text": [
      "can not identify depart\n",
      "inten : 畢業\n",
      "inten_porb : 5.850996494293213\n"
     ]
    }
   ],
   "source": [
    "Model.Ans('電機可以提前畢業嗎?')"
   ]
  },
  {
   "cell_type": "code",
   "execution_count": 18,
   "metadata": {},
   "outputs": [
    {
     "name": "stdout",
     "output_type": "stream",
     "text": [
      "can not identify depart\n",
      "inten : 畢業\n",
      "inten_porb : 5.831700801849365\n"
     ]
    }
   ],
   "source": [
    "Model.Ans('資工可以提前畢業嗎?')"
   ]
  },
  {
   "cell_type": "code",
   "execution_count": 9,
   "metadata": {},
   "outputs": [
    {
     "name": "stdout",
     "output_type": "stream",
     "text": [
      "depart : 產業經濟學系\n",
      "depart_prob : 6.0913405418396\n",
      "inten : 面試\n",
      "inten_porb : 6.996478080749512\n",
      "similarity qus: 產經系面試要帶口罩嗎?\n",
      "similarity ans: 是，請進入校園後就全程戴口罩，保護自己也保護別人哦~\n",
      "prob : 0.9957748055458069\n"
     ]
    }
   ],
   "source": [
    "Model.Ans('產經系面試要戴口罩嗎?')"
   ]
  },
  {
   "cell_type": "code",
   "execution_count": 10,
   "metadata": {},
   "outputs": [
    {
     "name": "stdout",
     "output_type": "stream",
     "text": [
      "depart : 風險管理與保險學系\n",
      "depart_prob : 6.364518642425537\n",
      "inten : 課程\n",
      "inten_porb : 6.446691989898682\n",
      "similarity qus: 風保系很難讀嗎?\n",
      "similarity ans: 只要有心就不怕難，風保系提供專業風險管理與保險相關課程，及相關證照輔導，畢業後在就業職場具有競爭力\n",
      "prob : 0.9466831088066101\n"
     ]
    }
   ],
   "source": [
    "Model.Ans('風保系好讀嗎?')"
   ]
  },
  {
   "cell_type": "code",
   "execution_count": 11,
   "metadata": {},
   "outputs": [
    {
     "name": "stdout",
     "output_type": "stream",
     "text": [
      "depart : 統計學系\n",
      "depart_prob : 6.326920509338379\n",
      "inten : 學系介紹\n",
      "inten_porb : 7.00701379776001\n",
      "similarity qus: 統計學系與商管其他科的不同之處?\n",
      "similarity ans: 商管學院共有12個學系，每系均有其專業之處，本系主要在培訓同學具有數據分析能力的資料科學家，統計是一個工具，可以應用在各個不同的領域，本系以統計方法為基礎，應用為輔，引導同學進行跨領域學習，以達學用合一。在大學四年的訓練過程中，除了統計專業的訓練外，並透過企業導師、職涯導師與企業實習三哩路的計畫，讓同學可以順利地跟職涯無縫接軌，提升同學在職場的競爭力。\n",
      "prob : 0.9291129112243652\n"
     ]
    }
   ],
   "source": [
    "Model.Ans('統計系跟其他科系有什麼不同')"
   ]
  },
  {
   "cell_type": "code",
   "execution_count": null,
   "metadata": {},
   "outputs": [],
   "source": []
  }
 ],
 "metadata": {
  "kernelspec": {
   "display_name": "Python 3",
   "language": "python",
   "name": "python3"
  },
  "language_info": {
   "codemirror_mode": {
    "name": "ipython",
    "version": 3
   },
   "file_extension": ".py",
   "mimetype": "text/x-python",
   "name": "python",
   "nbconvert_exporter": "python",
   "pygments_lexer": "ipython3",
   "version": "3.7.8"
  }
 },
 "nbformat": 4,
 "nbformat_minor": 4
}
